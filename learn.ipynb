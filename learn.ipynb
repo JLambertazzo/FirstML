{
 "cells": [
  {
   "cell_type": "code",
   "execution_count": 1,
   "id": "terminal-construction",
   "metadata": {},
   "outputs": [],
   "source": [
    "import requests\n",
    "from bs4 import BeautifulSoup"
   ]
  },
  {
   "cell_type": "code",
   "execution_count": 2,
   "id": "understood-forest",
   "metadata": {},
   "outputs": [],
   "source": [
    "url = 'https://stackoverflow.com/questions/tagged/{}?tab=votes&page={}&pagesize=50'"
   ]
  },
  {
   "cell_type": "code",
   "execution_count": 3,
   "id": "interpreted-savage",
   "metadata": {},
   "outputs": [],
   "source": [
    "tags = ['sql', 'javascript', 'html', 'css', 'python', 'ruby', 'java', 'go']"
   ]
  },
  {
   "cell_type": "code",
   "execution_count": 4,
   "id": "impaired-details",
   "metadata": {},
   "outputs": [],
   "source": [
    "def get_data(complete):\n",
    "    data = requests.get(complete)\n",
    "    soup = BeautifulSoup(data.text)\n",
    "    res = []\n",
    "    found = soup.find_all('h3')\n",
    "    for find in found:\n",
    "        res.extend(find.findChildren('a', attrs={\"class\" : \"question-hyperlink\"}))\n",
    "    return [a.text.strip() for a in res]"
   ]
  },
  {
   "cell_type": "code",
   "execution_count": 5,
   "id": "acute-protocol",
   "metadata": {},
   "outputs": [
    {
     "data": {
      "text/plain": [
       "['What is the difference between “INNER JOIN” and “OUTER JOIN”?',\n",
       " 'How do I UPDATE from a SELECT in SQL Server?',\n",
       " 'Add a column with a default value to an existing table in SQL Server',\n",
       " 'How can I prevent SQL injection in PHP?',\n",
       " 'How does database indexing work? [closed]',\n",
       " 'How do I import an SQL file using the command line in MySQL?',\n",
       " 'Finding duplicate values in a SQL table',\n",
       " 'How to concatenate text from multiple rows into a single text string in SQL server?',\n",
       " 'How to return only the Date from a SQL Server DateTime datatype',\n",
       " \"What's the difference between INNER JOIN, LEFT JOIN, RIGHT JOIN and FULL JOIN? [duplicate]\",\n",
       " 'Inserting multiple rows in a single SQL query? [duplicate]',\n",
       " 'Insert results of a stored procedure into a temporary table',\n",
       " 'How do I perform an IF…THEN in an SQL SELECT?',\n",
       " 'How to query MongoDB with “like”?',\n",
       " 'Table Naming Dilemma: Singular vs. Plural Names [closed]',\n",
       " 'Insert into … values ( SELECT … FROM … )',\n",
       " 'Select first row in each GROUP BY group?',\n",
       " 'What is the difference between UNION and UNION ALL?',\n",
       " 'How can I delete using INNER JOIN with SQL Server?',\n",
       " 'How can I do an UPDATE statement with JOIN in SQL Server?',\n",
       " 'What are the options for storing hierarchical data in a relational database?',\n",
       " 'SQL select only rows with max value on a column [duplicate]',\n",
       " 'How to reset AUTO_INCREMENT in MySQL?',\n",
       " 'Find all tables containing column with specified name - MS SQL Server',\n",
       " 'Can I concatenate multiple MySQL rows into one field?',\n",
       " 'How to list the tables in a SQLite database file that was opened with ATTACH?',\n",
       " 'Best way to get identity of inserted row?',\n",
       " 'Using group by on multiple columns',\n",
       " 'Get list of all tables in Oracle?',\n",
       " 'Difference between JOIN and INNER JOIN',\n",
       " 'How do I limit the number of rows returned by an Oracle query after ordering?',\n",
       " 'Retrieving the last record in each group - MySQL',\n",
       " 'Parameterize an SQL IN clause',\n",
       " 'How do I escape a single quote in SQL Server?',\n",
       " 'SQL update from one Table to another based on a ID match',\n",
       " 'INNER JOIN ON vs WHERE clause',\n",
       " 'Save PL/pgSQL output from PostgreSQL to a CSV file',\n",
       " 'When should I use cross apply over inner join?',\n",
       " 'Insert into a MySQL table or update if exists',\n",
       " 'Join vs. sub-query',\n",
       " \"How to 'insert if not exists' in MySQL?\",\n",
       " 'Search text in stored procedure in SQL Server',\n",
       " 'Function vs. Stored Procedure in SQL Server',\n",
       " 'Should I use != or <> for not equal in T-SQL?',\n",
       " 'How can I SELECT rows with MAX(Column value), PARTITION by another column in MYSQL?',\n",
       " 'How to Join to first row',\n",
       " 'SQL exclude a column using SELECT * [except columnA] FROM tableA?',\n",
       " 'How can I list all foreign keys referencing a given table in SQL Server?',\n",
       " 'DateTime2 vs DateTime in SQL Server',\n",
       " 'How can I get column names from a table in SQL Server?']"
      ]
     },
     "execution_count": 5,
     "metadata": {},
     "output_type": "execute_result"
    }
   ],
   "source": [
    "get_data(url.format(tags[0], 1))"
   ]
  },
  {
   "cell_type": "code",
   "execution_count": 6,
   "id": "rocky-peoples",
   "metadata": {},
   "outputs": [
    {
     "name": "stdout",
     "output_type": "stream",
     "text": [
      "processed sql on page 1\n",
      "processed sql on page 2\n",
      "processed sql on page 3\n",
      "processed sql on page 4\n",
      "processed sql on page 5\n",
      "processed sql on page 6\n",
      "processed sql on page 7\n",
      "processed sql on page 8\n",
      "processed sql on page 9\n",
      "processed sql on page 10\n",
      "processed javascript on page 1\n",
      "processed javascript on page 2\n",
      "processed javascript on page 3\n",
      "processed javascript on page 4\n",
      "processed javascript on page 5\n",
      "processed javascript on page 6\n",
      "processed javascript on page 7\n",
      "processed javascript on page 8\n",
      "processed javascript on page 9\n",
      "processed javascript on page 10\n",
      "processed html on page 1\n",
      "processed html on page 2\n",
      "processed html on page 3\n",
      "processed html on page 4\n",
      "processed html on page 5\n",
      "processed html on page 6\n",
      "processed html on page 7\n",
      "processed html on page 8\n",
      "processed html on page 9\n",
      "processed html on page 10\n",
      "processed css on page 1\n",
      "processed css on page 2\n",
      "processed css on page 3\n",
      "processed css on page 4\n",
      "processed css on page 5\n",
      "processed css on page 6\n",
      "processed css on page 7\n",
      "processed css on page 8\n",
      "processed css on page 9\n",
      "processed css on page 10\n",
      "processed python on page 1\n",
      "processed python on page 2\n",
      "processed python on page 3\n",
      "processed python on page 4\n",
      "processed python on page 5\n",
      "processed python on page 6\n",
      "processed python on page 7\n",
      "processed python on page 8\n",
      "processed python on page 9\n",
      "processed python on page 10\n",
      "processed ruby on page 1\n",
      "processed ruby on page 2\n",
      "processed ruby on page 3\n",
      "processed ruby on page 4\n",
      "processed ruby on page 5\n",
      "processed ruby on page 6\n",
      "processed ruby on page 7\n",
      "processed ruby on page 8\n",
      "processed ruby on page 9\n",
      "processed ruby on page 10\n",
      "processed java on page 1\n",
      "processed java on page 2\n",
      "processed java on page 3\n",
      "processed java on page 4\n",
      "processed java on page 5\n",
      "processed java on page 6\n",
      "processed java on page 7\n",
      "processed java on page 8\n",
      "processed java on page 9\n",
      "processed java on page 10\n",
      "processed go on page 1\n",
      "processed go on page 2\n",
      "processed go on page 3\n",
      "processed go on page 4\n",
      "processed go on page 5\n",
      "processed go on page 6\n",
      "processed go on page 7\n",
      "processed go on page 8\n",
      "processed go on page 9\n",
      "processed go on page 10\n"
     ]
    }
   ],
   "source": [
    "X, y = [], []\n",
    "\n",
    "for tag in tags:\n",
    "    for i in range(1, 11):\n",
    "        data = get_data(url.format(tag, i))\n",
    "        X.extend(data)\n",
    "        y.extend([tag] * len(data))\n",
    "        print(f\"processed {tag} on page {i}\")"
   ]
  },
  {
   "cell_type": "code",
   "execution_count": 7,
   "id": "needed-state",
   "metadata": {},
   "outputs": [],
   "source": [
    "import pandas as pd"
   ]
  },
  {
   "cell_type": "code",
   "execution_count": 8,
   "id": "attached-grill",
   "metadata": {},
   "outputs": [],
   "source": [
    "df = pd.DataFrame(list(zip(y, X)), columns=[tag, data])"
   ]
  },
  {
   "cell_type": "code",
   "execution_count": 9,
   "id": "diverse-florence",
   "metadata": {},
   "outputs": [],
   "source": [
    "df.to_csv(\"tags.csv\", index=False)"
   ]
  },
  {
   "cell_type": "code",
   "execution_count": 10,
   "id": "pointed-butterfly",
   "metadata": {},
   "outputs": [],
   "source": [
    "from sklearn.feature_extraction.text import CountVectorizer"
   ]
  },
  {
   "cell_type": "code",
   "execution_count": 11,
   "id": "informative-colombia",
   "metadata": {},
   "outputs": [],
   "source": [
    "vect = CountVectorizer(max_features=500)"
   ]
  },
  {
   "cell_type": "code",
   "execution_count": 12,
   "id": "rational-stream",
   "metadata": {},
   "outputs": [
    {
     "data": {
      "text/plain": [
       "CountVectorizer(max_features=500)"
      ]
     },
     "execution_count": 12,
     "metadata": {},
     "output_type": "execute_result"
    }
   ],
   "source": [
    "vect.fit(X)"
   ]
  },
  {
   "cell_type": "code",
   "execution_count": 13,
   "id": "rising-blond",
   "metadata": {},
   "outputs": [
    {
     "data": {
      "text/plain": [
       "500"
      ]
     },
     "execution_count": 13,
     "metadata": {},
     "output_type": "execute_result"
    }
   ],
   "source": [
    "len(vect.vocabulary_)"
   ]
  },
  {
   "cell_type": "code",
   "execution_count": 14,
   "id": "improving-chile",
   "metadata": {},
   "outputs": [],
   "source": [
    "from nltk.tokenize import RegexpTokenizer"
   ]
  },
  {
   "cell_type": "code",
   "execution_count": 15,
   "id": "sacred-engine",
   "metadata": {},
   "outputs": [],
   "source": [
    "from nltk.stem import PorterStemmer\n",
    "from nltk.corpus import stopwords"
   ]
  },
  {
   "cell_type": "code",
   "execution_count": 16,
   "id": "other-politics",
   "metadata": {},
   "outputs": [],
   "source": [
    "ps = PorterStemmer()\n",
    "tokenizer = RegexpTokenizer('\\w+')\n",
    "sw = set(stopwords.words('english'))"
   ]
  },
  {
   "cell_type": "code",
   "execution_count": 17,
   "id": "dangerous-notification",
   "metadata": {},
   "outputs": [],
   "source": [
    "def getStemmedData(data):\n",
    "    data = data.lower()\n",
    "    tokens = tokenizer.tokenize(data)\n",
    "    new_tokens = [token for token in tokens if token not in sw]\n",
    "    stemmed_token = [ps.stem(token) for token in new_tokens]\n",
    "    clean_data = ' '.join(stemmed_token)\n",
    "    return clean_data\n",
    "\n",
    "def getStemmedData2(data2):\n",
    "    d = []\n",
    "    for data in data2:\n",
    "        d.append(getStemmedData(data))\n",
    "    return d"
   ]
  },
  {
   "cell_type": "code",
   "execution_count": 18,
   "id": "changed-exemption",
   "metadata": {},
   "outputs": [],
   "source": [
    "X = getStemmedData2(X)"
   ]
  },
  {
   "cell_type": "code",
   "execution_count": 19,
   "id": "contained-andrews",
   "metadata": {},
   "outputs": [],
   "source": [
    "X_mod = vect.transform(X).todense()"
   ]
  },
  {
   "cell_type": "code",
   "execution_count": 20,
   "id": "lesser-aquarium",
   "metadata": {},
   "outputs": [
    {
     "data": {
      "text/plain": [
       "(3896, 500)"
      ]
     },
     "execution_count": 20,
     "metadata": {},
     "output_type": "execute_result"
    }
   ],
   "source": [
    "X_mod.shape"
   ]
  },
  {
   "cell_type": "code",
   "execution_count": 21,
   "id": "possible-fleece",
   "metadata": {},
   "outputs": [],
   "source": [
    "from sklearn.model_selection import train_test_split"
   ]
  },
  {
   "cell_type": "code",
   "execution_count": 22,
   "id": "tight-liverpool",
   "metadata": {},
   "outputs": [],
   "source": [
    "X_train, X_test, y_train, y_test = train_test_split(X_mod, y, test_size=0.33, random_state=42)"
   ]
  },
  {
   "cell_type": "code",
   "execution_count": 23,
   "id": "chronic-gasoline",
   "metadata": {},
   "outputs": [],
   "source": [
    "from sklearn.naive_bayes import BernoulliNB"
   ]
  },
  {
   "cell_type": "code",
   "execution_count": 24,
   "id": "physical-bibliography",
   "metadata": {},
   "outputs": [],
   "source": [
    "model = BernoulliNB()"
   ]
  },
  {
   "cell_type": "code",
   "execution_count": 25,
   "id": "taken-gravity",
   "metadata": {},
   "outputs": [
    {
     "data": {
      "text/plain": [
       "BernoulliNB()"
      ]
     },
     "execution_count": 25,
     "metadata": {},
     "output_type": "execute_result"
    }
   ],
   "source": [
    "model.fit(X_train, y_train)"
   ]
  },
  {
   "cell_type": "code",
   "execution_count": 26,
   "id": "written-welsh",
   "metadata": {},
   "outputs": [
    {
     "data": {
      "text/plain": [
       "0.6461897356143079"
      ]
     },
     "execution_count": 26,
     "metadata": {},
     "output_type": "execute_result"
    }
   ],
   "source": [
    "model.score(X_test, y_test)"
   ]
  },
  {
   "cell_type": "code",
   "execution_count": 27,
   "id": "artistic-dimension",
   "metadata": {},
   "outputs": [],
   "source": [
    "line = \"How do I do JOIN in SQL?\""
   ]
  },
  {
   "cell_type": "code",
   "execution_count": 28,
   "id": "falling-quarterly",
   "metadata": {},
   "outputs": [],
   "source": [
    "X_vec = vect.transform([line]).todense()"
   ]
  },
  {
   "cell_type": "code",
   "execution_count": 29,
   "id": "electoral-complement",
   "metadata": {},
   "outputs": [
    {
     "data": {
      "text/plain": [
       "array(['sql'], dtype='<U10')"
      ]
     },
     "execution_count": 29,
     "metadata": {},
     "output_type": "execute_result"
    }
   ],
   "source": [
    "model.predict(X_vec)"
   ]
  },
  {
   "cell_type": "code",
   "execution_count": null,
   "id": "cheap-damage",
   "metadata": {},
   "outputs": [],
   "source": []
  }
 ],
 "metadata": {
  "kernelspec": {
   "display_name": "Python 3",
   "language": "python",
   "name": "python3"
  },
  "language_info": {
   "codemirror_mode": {
    "name": "ipython",
    "version": 3
   },
   "file_extension": ".py",
   "mimetype": "text/x-python",
   "name": "python",
   "nbconvert_exporter": "python",
   "pygments_lexer": "ipython3",
   "version": "3.9.2"
  }
 },
 "nbformat": 4,
 "nbformat_minor": 5
}
